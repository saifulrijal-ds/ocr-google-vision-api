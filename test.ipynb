{
 "cells": [
  {
   "cell_type": "code",
   "execution_count": 1,
   "metadata": {},
   "outputs": [],
   "source": [
    "# import google.cloud.vision"
   ]
  },
  {
   "cell_type": "code",
   "execution_count": 2,
   "metadata": {},
   "outputs": [],
   "source": [
    "import os\n",
    "os.environ[\"GOOGLE_APPLICATION_CREDENTIALS\"]=\"sturdy-quarter-361804-599639eb7da1.json\""
   ]
  },
  {
   "cell_type": "markdown",
   "metadata": {},
   "source": [
    "Image sample [otter crossing](https://storage.googleapis.com/cloud-vision-codelab/otter_crossing.jpg)"
   ]
  },
  {
   "cell_type": "code",
   "execution_count": 3,
   "metadata": {},
   "outputs": [],
   "source": [
    "# from __future__ import print_function\n",
    "from google.cloud import vision\n",
    "import io"
   ]
  },
  {
   "cell_type": "code",
   "execution_count": 4,
   "metadata": {},
   "outputs": [
    {
     "data": {
      "text/plain": [
       "[locale: \"cy\"\n",
       "description: \"B 6703 WJF\\n07.18\"\n",
       "bounding_poly {\n",
       "  vertices {\n",
       "    x: 73\n",
       "    y: 53\n",
       "  }\n",
       "  vertices {\n",
       "    x: 886\n",
       "    y: 53\n",
       "  }\n",
       "  vertices {\n",
       "    x: 886\n",
       "    y: 325\n",
       "  }\n",
       "  vertices {\n",
       "    x: 73\n",
       "    y: 325\n",
       "  }\n",
       "}\n",
       ", description: \"B\"\n",
       "bounding_poly {\n",
       "  vertices {\n",
       "    x: 73\n",
       "    y: 71\n",
       "  }\n",
       "  vertices {\n",
       "    x: 155\n",
       "    y: 69\n",
       "  }\n",
       "  vertices {\n",
       "    x: 158\n",
       "    y: 199\n",
       "  }\n",
       "  vertices {\n",
       "    x: 76\n",
       "    y: 201\n",
       "  }\n",
       "}\n",
       ", description: \"6703\"\n",
       "bounding_poly {\n",
       "  vertices {\n",
       "    x: 241\n",
       "    y: 67\n",
       "  }\n",
       "  vertices {\n",
       "    x: 567\n",
       "    y: 60\n",
       "  }\n",
       "  vertices {\n",
       "    x: 570\n",
       "    y: 190\n",
       "  }\n",
       "  vertices {\n",
       "    x: 244\n",
       "    y: 197\n",
       "  }\n",
       "}\n",
       ", description: \"WJF\"\n",
       "bounding_poly {\n",
       "  vertices {\n",
       "    x: 628\n",
       "    y: 58\n",
       "  }\n",
       "  vertices {\n",
       "    x: 880\n",
       "    y: 52\n",
       "  }\n",
       "  vertices {\n",
       "    x: 883\n",
       "    y: 182\n",
       "  }\n",
       "  vertices {\n",
       "    x: 631\n",
       "    y: 188\n",
       "  }\n",
       "}\n",
       ", description: \"07.18\"\n",
       "bounding_poly {\n",
       "  vertices {\n",
       "    x: 510\n",
       "    y: 245\n",
       "  }\n",
       "  vertices {\n",
       "    x: 885\n",
       "    y: 245\n",
       "  }\n",
       "  vertices {\n",
       "    x: 885\n",
       "    y: 316\n",
       "  }\n",
       "  vertices {\n",
       "    x: 510\n",
       "    y: 316\n",
       "  }\n",
       "}\n",
       "]"
      ]
     },
     "execution_count": 4,
     "metadata": {},
     "output_type": "execute_result"
    }
   ],
   "source": [
    "image_uri1 = \"https://storage.googleapis.com/ocr-361804/license_plate_images/plat1.jpg\" # ok\n",
    "image_uri2 = \"gs://ocr-361804/license_plate_images/plat1.jpg\" # ok, fastest\n",
    "image_uri3 = \"https://storage.cloud.google.com/ocr-361804/license_plate_images/plat1.jpg\" # no output\n",
    "\n",
    "client = vision.ImageAnnotatorClient()\n",
    "image = vision.Image()\n",
    "image.source.image_uri = image_uri2\n",
    "\n",
    "response = client.text_detection(image=image)\n",
    "\n",
    "response.text_annotations.description\n",
    "\n",
    "# for text in response.text_annotations:\n",
    "#     print(\"=\" * 30)\n",
    "#     print(text.description)\n",
    "#     vertices = ['(%s, %s)' % (v.x, v.y) for v in text.bounding_poly.vertices]\n",
    "#     print('bounds:', \",\".join(vertices))"
   ]
  },
  {
   "cell_type": "code",
   "execution_count": 4,
   "metadata": {},
   "outputs": [
    {
     "name": "stdout",
     "output_type": "stream",
     "text": [
      "==============================\n",
      "CAUTION\n",
      "Otters crossing\n",
      "for next 6 miles\n",
      "bounds: (59, 243),(249, 243),(249, 341),(59, 341)\n",
      "==============================\n",
      "CAUTION\n",
      "bounds: (75, 244),(232, 243),(232, 269),(75, 270)\n",
      "==============================\n",
      "Otters\n",
      "bounds: (64, 293),(141, 294),(141, 315),(64, 314)\n",
      "==============================\n",
      "crossing\n",
      "bounds: (150, 294),(248, 295),(248, 316),(150, 315)\n",
      "==============================\n",
      "for\n",
      "bounds: (59, 321),(93, 320),(93, 339),(59, 340)\n",
      "==============================\n",
      "next\n",
      "bounds: (104, 320),(156, 319),(156, 338),(104, 339)\n",
      "==============================\n",
      "6\n",
      "bounds: (166, 320),(178, 320),(178, 338),(166, 338)\n",
      "==============================\n",
      "miles\n",
      "bounds: (189, 319),(249, 318),(249, 337),(189, 338)\n"
     ]
    }
   ],
   "source": [
    "image_uri = 'gs://cloud-vision-codelab/otter_crossing.jpg'\n",
    "\n",
    "client = vision.ImageAnnotatorClient()\n",
    "image = vision.Image()\n",
    "image.source.image_uri = image_uri\n",
    "\n",
    "response = client.text_detection(image=image)\n",
    "\n",
    "for text in response.text_annotations:\n",
    "    print(\"=\" * 30)\n",
    "    print(text.description)\n",
    "    vertices = ['(%s, %s)' % (v.x, v.y) for v in text.bounding_poly.vertices]\n",
    "    print('bounds:', \",\".join(vertices))"
   ]
  },
  {
   "cell_type": "code",
   "execution_count": 14,
   "metadata": {},
   "outputs": [
    {
     "name": "stdout",
     "output_type": "stream",
     "text": [
      "==============================\n",
      "B 6703 WJF\n",
      "07.18\n",
      "bounds: (73, 53),(886, 53),(886, 325),(73, 325)\n",
      "==============================\n",
      "B\n",
      "bounds: (73, 71),(155, 69),(158, 199),(76, 201)\n",
      "==============================\n",
      "6703\n",
      "bounds: (241, 67),(567, 60),(570, 190),(244, 197)\n",
      "==============================\n",
      "WJF\n",
      "bounds: (628, 58),(880, 52),(883, 182),(631, 188)\n",
      "==============================\n",
      "07.18\n",
      "bounds: (510, 245),(885, 245),(885, 316),(510, 316)\n"
     ]
    }
   ],
   "source": [
    "path = \"image_sample/plat1.jpg\"\n",
    "\n",
    "with io.open(path, 'rb') as image_file:\n",
    "        content = image_file.read()\n",
    "\n",
    "client = vision.ImageAnnotatorClient()\n",
    "image = vision.Image(content=content)\n",
    "# image.source.image_uri = image_uri\n",
    "\n",
    "response = client.text_detection(image=image)\n",
    "\n",
    "for text in response.text_annotations:\n",
    "    print(\"=\" * 30)\n",
    "    print(text.description)\n",
    "    vertices = ['(%s, %s)' % (v.x, v.y) for v in text.bounding_poly.vertices]\n",
    "    print('bounds:', \",\".join(vertices))"
   ]
  },
  {
   "cell_type": "code",
   "execution_count": 15,
   "metadata": {},
   "outputs": [
    {
     "name": "stdout",
     "output_type": "stream",
     "text": [
      "==============================\n",
      "G 1023 XX\n",
      "1\n",
      "bounds: (229, 162),(688, 162),(688, 246),(229, 246)\n",
      "==============================\n",
      "G\n",
      "bounds: (229, 168),(253, 167),(254, 210),(230, 211)\n",
      "==============================\n",
      "1023\n",
      "bounds: (271, 166),(366, 164),(367, 208),(272, 210)\n",
      "==============================\n",
      "XX\n",
      "bounds: (385, 164),(447, 163),(448, 206),(386, 207)\n",
      "==============================\n",
      "1\n",
      "bounds: (689, 226),(688, 246),(661, 245),(662, 225)\n"
     ]
    }
   ],
   "source": [
    "path = \"image_sample/plat2.jpg\"\n",
    "\n",
    "with io.open(path, 'rb') as image_file:\n",
    "        content = image_file.read()\n",
    "\n",
    "client = vision.ImageAnnotatorClient()\n",
    "image = vision.Image(content=content)\n",
    "# image.source.image_uri = image_uri\n",
    "\n",
    "response = client.text_detection(image=image)\n",
    "\n",
    "for text in response.text_annotations:\n",
    "    print(\"=\" * 30)\n",
    "    print(text.description)\n",
    "    vertices = ['(%s, %s)' % (v.x, v.y) for v in text.bounding_poly.vertices]\n",
    "    print('bounds:', \",\".join(vertices))"
   ]
  },
  {
   "cell_type": "code",
   "execution_count": 8,
   "metadata": {},
   "outputs": [],
   "source": [
    "text = \"B 6703 WJF 07.18\""
   ]
  },
  {
   "cell_type": "code",
   "execution_count": 1,
   "metadata": {},
   "outputs": [],
   "source": [
    "import re"
   ]
  },
  {
   "cell_type": "code",
   "execution_count": 11,
   "metadata": {},
   "outputs": [
    {
     "data": {
      "text/plain": [
       "'B 6703 WJF'"
      ]
     },
     "execution_count": 11,
     "metadata": {},
     "output_type": "execute_result"
    }
   ],
   "source": [
    "num_plate_regex = re.compile(r\"[A-Z]{1,2}\\s{1}\\d{1,4}\\s{1}[A-Z]{1,3}\")\n",
    "num_plate = num_plate_regex.match(text)\n",
    "num_plate.group()"
   ]
  },
  {
   "cell_type": "code",
   "execution_count": 12,
   "metadata": {},
   "outputs": [],
   "source": [
    "text1 = \"\"\"\n",
    "АБ\n",
    "AB 1895 KA\n",
    "AB 1895 KB\n",
    "09-18\n",
    "\"\"\"\n",
    "\n",
    "text2 = \"АБ AB 1895 KA 09-18\""
   ]
  },
  {
   "cell_type": "code",
   "execution_count": 16,
   "metadata": {},
   "outputs": [
    {
     "data": {
      "text/plain": [
       "['AB 1895 KA', 'AB 1895 KB']"
      ]
     },
     "execution_count": 16,
     "metadata": {},
     "output_type": "execute_result"
    }
   ],
   "source": [
    "num_plate_regex = re.compile(r\"[A-Z]{1,2}\\s{1}\\d{1,4}\\s{1}[A-Z]{1,3}\")\n",
    "num_plate = num_plate_regex.search(text1)\n",
    "num_plate"
   ]
  },
  {
   "cell_type": "code",
   "execution_count": null,
   "metadata": {},
   "outputs": [],
   "source": []
  }
 ],
 "metadata": {
  "kernelspec": {
   "display_name": "Python 3.9.13 ('google_api_env')",
   "language": "python",
   "name": "python3"
  },
  "language_info": {
   "codemirror_mode": {
    "name": "ipython",
    "version": 3
   },
   "file_extension": ".py",
   "mimetype": "text/x-python",
   "name": "python",
   "nbconvert_exporter": "python",
   "pygments_lexer": "ipython3",
   "version": "3.9.13"
  },
  "orig_nbformat": 4,
  "vscode": {
   "interpreter": {
    "hash": "deea89dc16d2377162d5c29059ce6d464bdde775a4da47e1fc4be2a77cf71a8d"
   }
  }
 },
 "nbformat": 4,
 "nbformat_minor": 2
}
